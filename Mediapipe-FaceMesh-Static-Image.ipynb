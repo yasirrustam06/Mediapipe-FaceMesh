{
 "cells": [
  {
   "cell_type": "markdown",
   "id": "93aa4284",
   "metadata": {},
   "source": [
    "\n",
    "# Mediapipe Face Mesh and Face Landmarks in ` RealTime`"
   ]
  },
  {
   "cell_type": "markdown",
   "id": "3e830a4d",
   "metadata": {},
   "source": [
    "`Install the libraries`"
   ]
  },
  {
   "cell_type": "code",
   "execution_count": null,
   "id": "9b3e7a1e",
   "metadata": {},
   "outputs": [],
   "source": [
    "!pip install opencv-python\n",
    "!pip install mediapipe"
   ]
  },
  {
   "cell_type": "code",
   "execution_count": null,
   "id": "1e831c1b",
   "metadata": {},
   "outputs": [],
   "source": [
    "import cv2\n",
    "import mediapipe as mp\n",
    "import time"
   ]
  },
  {
   "cell_type": "code",
   "execution_count": 11,
   "id": "c8422c5f",
   "metadata": {},
   "outputs": [],
   "source": [
    "mpMesh = mp.solutions.face_mesh\n",
    "mpDraw = mp.solutions.drawing_utils\n",
    "face_mesh = mpMesh.FaceMesh(static_image_mode=True,\n",
    "    max_num_faces=1,\n",
    "    refine_landmarks=True,\n",
    "    min_detection_confidence=0.5)\n",
    "drawing_spec = mpDraw.DrawingSpec(thickness=6, circle_radius=8)\n",
    "mp_drawing_styles = mp.solutions.drawing_styles\n"
   ]
  },
  {
   "cell_type": "code",
   "execution_count": 17,
   "id": "b3aee8e6",
   "metadata": {},
   "outputs": [],
   "source": [
    "img = cv2.imread(\"my_image.jpeg\")\n",
    "rgb_image = cv2.cvtColor(img,cv2.COLOR_BGR2RGB)\n",
    "results  = face_mesh.process(rgb_image)\n",
    "if results.multi_face_landmarks:\n",
    "    for face_landmarks  in results.multi_face_landmarks:\n",
    "        mpDraw.draw_landmarks(\n",
    "            image=img,\n",
    "            landmark_list=face_landmarks,\n",
    "            connections=mpMesh.FACEMESH_CONTOURS,\n",
    "            landmark_drawing_spec=None,\n",
    "            connection_drawing_spec=mp_drawing_styles.get_default_face_mesh_contours_style())\n",
    "\n",
    "        \n",
    "        \n",
    "        \n",
    "        \n",
    "        "
   ]
  },
  {
   "cell_type": "code",
   "execution_count": 18,
   "id": "51fd7637",
   "metadata": {},
   "outputs": [
    {
     "data": {
      "text/plain": [
       "True"
      ]
     },
     "execution_count": 18,
     "metadata": {},
     "output_type": "execute_result"
    }
   ],
   "source": [
    "cv2.imwrite(\"face_mesh.jpg\",img)"
   ]
  },
  {
   "cell_type": "code",
   "execution_count": 19,
   "id": "bd18057a",
   "metadata": {},
   "outputs": [
    {
     "data": {
      "text/plain": [
       "-1"
      ]
     },
     "execution_count": 19,
     "metadata": {},
     "output_type": "execute_result"
    }
   ],
   "source": [
    "cv2.imshow(\"image\",img)\n",
    "cv2.waitKey(0)"
   ]
  },
  {
   "cell_type": "code",
   "execution_count": null,
   "id": "29c2aadf",
   "metadata": {},
   "outputs": [],
   "source": [
    "\n",
    "\n"
   ]
  }
 ],
 "metadata": {
  "kernelspec": {
   "display_name": "Python 3 (ipykernel)",
   "language": "python",
   "name": "python3"
  },
  "language_info": {
   "codemirror_mode": {
    "name": "ipython",
    "version": 3
   },
   "file_extension": ".py",
   "mimetype": "text/x-python",
   "name": "python",
   "nbconvert_exporter": "python",
   "pygments_lexer": "ipython3",
   "version": "3.8.13"
  }
 },
 "nbformat": 4,
 "nbformat_minor": 5
}
