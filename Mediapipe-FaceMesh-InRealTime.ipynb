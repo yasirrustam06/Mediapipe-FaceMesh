{
 "cells": [
  {
   "cell_type": "markdown",
   "id": "bb6b0bf4",
   "metadata": {},
   "source": [
    "# Mediapipe Face Mesh and Face Landmarks in ` RealTime`"
   ]
  },
  {
   "cell_type": "markdown",
   "id": "413745b3",
   "metadata": {},
   "source": [
    "`Install the libraries`"
   ]
  },
  {
   "cell_type": "code",
   "execution_count": null,
   "id": "d7075069",
   "metadata": {},
   "outputs": [],
   "source": [
    "!pip install opencv-python\n",
    "!pip install mediapipe"
   ]
  },
  {
   "cell_type": "code",
   "execution_count": 1,
   "id": "51434922",
   "metadata": {},
   "outputs": [],
   "source": [
    "import cv2\n",
    "import mediapipe as mp"
   ]
  },
  {
   "cell_type": "code",
   "execution_count": 2,
   "id": "58d777ae",
   "metadata": {},
   "outputs": [],
   "source": [
    "mp_face_mesh  = mp.solutions.face_mesh\n",
    "mpDraw = mp.solutions.drawing_utils\n",
    "face_mesh = mp_face_mesh.FaceMesh()\n",
    "mp_drawing_styles = mp.solutions.drawing_styles\n"
   ]
  },
  {
   "cell_type": "code",
   "execution_count": null,
   "id": "ce86ca06",
   "metadata": {},
   "outputs": [],
   "source": [
    "cap = cv2.VideoCapture(0)\n",
    "while True:\n",
    "    ret,img = cap.read()\n",
    "    rgb_image = cv2.cvtColor(img,cv2.COLOR_BGR2RGB)\n",
    "    results = face_mesh.process(rgb_image)\n",
    "    if results.multi_face_landmarks:\n",
    "        for face_landmarks in results.multi_face_landmarks:\n",
    "            mpDraw.draw_landmarks(image=img,\n",
    "            landmark_list=face_landmarks,\n",
    "            connections=mp_face_mesh.FACEMESH_CONTOURS,\n",
    "            landmark_drawing_spec=None,\n",
    "            connection_drawing_spec=mp_drawing_styles.get_default_face_mesh_contours_style())\n",
    "            \n",
    "                      \n",
    "                \n",
    "\n",
    "    cv2.imshow(\"Image\",img)\n",
    "    cv2.waitKey(1)\n",
    "\n"
   ]
  },
  {
   "cell_type": "code",
   "execution_count": null,
   "id": "7441d12a",
   "metadata": {},
   "outputs": [],
   "source": []
  }
 ],
 "metadata": {
  "kernelspec": {
   "display_name": "Python 3 (ipykernel)",
   "language": "python",
   "name": "python3"
  },
  "language_info": {
   "codemirror_mode": {
    "name": "ipython",
    "version": 3
   },
   "file_extension": ".py",
   "mimetype": "text/x-python",
   "name": "python",
   "nbconvert_exporter": "python",
   "pygments_lexer": "ipython3",
   "version": "3.8.13"
  }
 },
 "nbformat": 4,
 "nbformat_minor": 5
}
